{
  "cells": [
    {
      "cell_type": "markdown",
      "metadata": {
        "id": "view-in-github",
        "colab_type": "text"
      },
      "source": [
        "<a href=\"https://colab.research.google.com/github/johncoogan53/HW4/blob/main/hw4.ipynb\" target=\"_parent\"><img src=\"https://colab.research.google.com/assets/colab-badge.svg\" alt=\"Open In Colab\"/></a>"
      ]
    },
    {
      "cell_type": "code",
      "source": [
        "from google.colab import drive\n",
        "drive.mount('/content/drive')"
      ],
      "metadata": {
        "id": "q__oxMehjl5B",
        "outputId": "b1ad144d-c2f2-4604-c6b5-e2d4b72cefcd",
        "colab": {
          "base_uri": "https://localhost:8080/"
        }
      },
      "execution_count": 1,
      "outputs": [
        {
          "output_type": "stream",
          "name": "stdout",
          "text": [
            "Mounted at /content/drive\n"
          ]
        }
      ]
    },
    {
      "cell_type": "code",
      "source": [
        "import sys\n",
        "sys.path.append('/content/drive/My Drive/DLHW4')"
      ],
      "metadata": {
        "id": "AYjEsUsMj-pL"
      },
      "execution_count": 2,
      "outputs": []
    },
    {
      "cell_type": "markdown",
      "metadata": {
        "id": "aohd6pdcjQwA"
      },
      "source": [
        "### Lab2 (a) Model preperation"
      ]
    },
    {
      "cell_type": "code",
      "execution_count": 4,
      "metadata": {
        "pycharm": {
          "is_executing": false
        },
        "id": "iWVmFSSFjQwB"
      },
      "outputs": [],
      "source": [
        "from resnet20 import ResNetCIFAR\n",
        "from train_util import train, finetune, test\n",
        "import torch\n",
        "import numpy as np\n",
        "\n",
        "import time\n",
        "\n",
        "import torchvision.transforms as transforms\n",
        "import torchvision\n",
        "import torch.nn as nn\n",
        "import torch.optim as optim\n",
        "\n",
        "from FP_layers import *\n",
        "\n",
        "device = \"cuda\" if torch.cuda.is_available() else \"cpu\""
      ]
    },
    {
      "cell_type": "code",
      "source": [
        "print(device)"
      ],
      "metadata": {
        "colab": {
          "base_uri": "https://localhost:8080/"
        },
        "id": "-amg_4WzlYxD",
        "outputId": "4dd8c6ef-fe71-4eb1-c7ee-c68dba5bc323"
      },
      "execution_count": 4,
      "outputs": [
        {
          "output_type": "stream",
          "name": "stdout",
          "text": [
            "cuda\n"
          ]
        }
      ]
    },
    {
      "cell_type": "code",
      "execution_count": 5,
      "metadata": {
        "pycharm": {
          "is_executing": false,
          "name": "#%%\n"
        },
        "id": "JnNEutu5jQwC"
      },
      "outputs": [],
      "source": [
        "net = ResNetCIFAR(num_layers=20, Nbits=None)\n",
        "net = net.to(device)"
      ]
    },
    {
      "cell_type": "code",
      "execution_count": 10,
      "metadata": {
        "id": "hsbrYJvGjQwC",
        "colab": {
          "base_uri": "https://localhost:8080/"
        },
        "outputId": "b1e859d6-3dee-444b-a112-9d76cc9f5837"
      },
      "outputs": [
        {
          "output_type": "stream",
          "name": "stderr",
          "text": [
            "<ipython-input-10-7a50f8b27ae8>:2: FutureWarning: You are using `torch.load` with `weights_only=False` (the current default value), which uses the default pickle module implicitly. It is possible to construct malicious pickle data which will execute arbitrary code during unpickling (See https://github.com/pytorch/pytorch/blob/main/SECURITY.md#untrusted-models for more details). In a future release, the default value for `weights_only` will be flipped to `True`. This limits the functions that could be executed during unpickling. Arbitrary objects will no longer be allowed to be loaded via this mode unless they are explicitly allowlisted by the user via `torch.serialization.add_safe_globals`. We recommend you start setting `weights_only=True` for any use case where you don't have full control of the loaded file. Please open an issue on GitHub for any issues related to this experimental feature.\n",
            "  net.load_state_dict(torch.load(\"/content/drive/My Drive/DLHW4/pretrained_model.pt\"))\n"
          ]
        },
        {
          "output_type": "stream",
          "name": "stdout",
          "text": [
            "Downloading https://www.cs.toronto.edu/~kriz/cifar-10-python.tar.gz to ./data/cifar-10-python.tar.gz\n"
          ]
        },
        {
          "output_type": "stream",
          "name": "stderr",
          "text": [
            "100%|██████████| 170M/170M [00:04<00:00, 35.4MB/s]\n"
          ]
        },
        {
          "output_type": "stream",
          "name": "stdout",
          "text": [
            "Extracting ./data/cifar-10-python.tar.gz to ./data\n",
            "Test Loss=0.3231, Test accuracy=0.9151\n"
          ]
        }
      ],
      "source": [
        "# Load the best weight paramters\n",
        "net.load_state_dict(torch.load(\"/content/drive/My Drive/DLHW4/pretrained_model.pt\"))\n",
        "test(net)"
      ]
    },
    {
      "cell_type": "markdown",
      "metadata": {
        "id": "aTV1yOQvjQwD"
      },
      "source": [
        "### Lab2 (b) Prune by percentage"
      ]
    },
    {
      "cell_type": "code",
      "execution_count": 11,
      "metadata": {
        "id": "0QkN-sH6jQwD"
      },
      "outputs": [],
      "source": [
        "def prune_by_percentage(layer, q=70.0):\n",
        "    \"\"\"\n",
        "    Pruning the weight paramters by threshold.\n",
        "    :param q: pruning percentile. 'q' percent of the least\n",
        "    significant weight parameters will be pruned.\n",
        "    \"\"\"\n",
        "    # Convert the weight of \"layer\" to numpy array\n",
        "    weights = layer.weight.data.cpu().numpy()\n",
        "    # Compute the q-th percentile of the abs of the converted array\n",
        "    threshold = np.percentile(np.abs(weights), q)\n",
        "    # Generate a binary mask same shape as weight to decide which element to prune\n",
        "    mask = np.abs(weights) >= threshold\n",
        "    # Convert mask to torch tensor and put on GPU\n",
        "    mask_tensor = torch.tensor(mask, dtype=torch.float32, device=layer.weight.device)\n",
        "    # Multiply the weight by mask to perform pruning\n",
        "    layer.weight.data.mul_(mask_tensor)\n",
        "\n",
        "    pass"
      ]
    },
    {
      "cell_type": "code",
      "execution_count": 26,
      "metadata": {
        "id": "SVdgX0--jQwD",
        "colab": {
          "base_uri": "https://localhost:8080/"
        },
        "outputId": "18863669-689b-4603-c4c8-190e4d234ac8"
      },
      "outputs": [
        {
          "output_type": "stream",
          "name": "stderr",
          "text": [
            "<ipython-input-26-2fe05e8c2c61>:1: FutureWarning: You are using `torch.load` with `weights_only=False` (the current default value), which uses the default pickle module implicitly. It is possible to construct malicious pickle data which will execute arbitrary code during unpickling (See https://github.com/pytorch/pytorch/blob/main/SECURITY.md#untrusted-models for more details). In a future release, the default value for `weights_only` will be flipped to `True`. This limits the functions that could be executed during unpickling. Arbitrary objects will no longer be allowed to be loaded via this mode unless they are explicitly allowlisted by the user via `torch.serialization.add_safe_globals`. We recommend you start setting `weights_only=True` for any use case where you don't have full control of the loaded file. Please open an issue on GitHub for any issues related to this experimental feature.\n",
            "  net.load_state_dict(torch.load(\"/content/drive/My Drive/DLHW4/pretrained_model.pt\"))\n"
          ]
        },
        {
          "output_type": "stream",
          "name": "stdout",
          "text": [
            "Sparsity of head_conv.0.conv: 0.6990740740740741\n",
            "Sparsity of body_op.0.conv1.0.conv: 0.7000868055555556\n",
            "Sparsity of body_op.0.conv2.0.conv: 0.7000868055555556\n",
            "Sparsity of body_op.1.conv1.0.conv: 0.7000868055555556\n",
            "Sparsity of body_op.1.conv2.0.conv: 0.7000868055555556\n",
            "Sparsity of body_op.2.conv1.0.conv: 0.7000868055555556\n",
            "Sparsity of body_op.2.conv2.0.conv: 0.7000868055555556\n",
            "Sparsity of body_op.3.conv1.0.conv: 0.6998697916666666\n",
            "Sparsity of body_op.3.conv2.0.conv: 0.6999782986111112\n",
            "Sparsity of body_op.4.conv1.0.conv: 0.6999782986111112\n",
            "Sparsity of body_op.4.conv2.0.conv: 0.6999782986111112\n",
            "Sparsity of body_op.5.conv1.0.conv: 0.6999782986111112\n",
            "Sparsity of body_op.5.conv2.0.conv: 0.6999782986111112\n",
            "Sparsity of body_op.6.conv1.0.conv: 0.6999782986111112\n",
            "Sparsity of body_op.6.conv2.0.conv: 0.7000054253472222\n",
            "Sparsity of body_op.7.conv1.0.conv: 0.7000054253472222\n",
            "Sparsity of body_op.7.conv2.0.conv: 0.7000054253472222\n",
            "Sparsity of body_op.8.conv1.0.conv: 0.7000054253472222\n",
            "Sparsity of body_op.8.conv2.0.conv: 0.7000054253472222\n",
            "Sparsity of final_fc.linear: 0.7\n",
            "Files already downloaded and verified\n",
            "Test Loss=2.4417, Test accuracy=0.4204\n"
          ]
        }
      ],
      "source": [
        "net.load_state_dict(torch.load(\"/content/drive/My Drive/DLHW4/pretrained_model.pt\"))\n",
        "\n",
        "for name, layer in net.named_modules():\n",
        "    if (\n",
        "        isinstance(layer, nn.Conv2d) or isinstance(layer, nn.Linear)\n",
        "    ) and \"id_mapping\" not in name:\n",
        "        # change q value\n",
        "        prune_by_percentage(layer, q=70.0)\n",
        "\n",
        "        # Optional: Check the sparsity you achieve in each layer\n",
        "        # Convert the weight of \"layer\" to numpy array\n",
        "        np_weight = layer.weight.data.cpu().numpy()\n",
        "        # Count number of zeros\n",
        "        zeros = np.sum(np_weight == 0)\n",
        "        # Count number of parameters\n",
        "        total = np_weight.size\n",
        "        # Print sparsity\n",
        "        print(\"Sparsity of \" + name + \": \" + str(zeros / total))\n",
        "\n",
        "test(net)"
      ]
    },
    {
      "cell_type": "markdown",
      "metadata": {
        "id": "1Q-DvLbLjQwD"
      },
      "source": [
        "### Lab2 (c) Finetune pruned model"
      ]
    },
    {
      "cell_type": "code",
      "execution_count": 17,
      "metadata": {
        "id": "2k6iQRvNjQwD"
      },
      "outputs": [],
      "source": [
        "def finetune_after_prune(net, trainloader, criterion, optimizer, prune=True):\n",
        "    \"\"\"\n",
        "    Finetune the pruned model for a single epoch\n",
        "    Make sure pruned weights are kept as zero\n",
        "    \"\"\"\n",
        "    # Build a dictionary for the nonzero weights\n",
        "    weight_mask = {}\n",
        "    for name, layer in net.named_modules():\n",
        "        if (\n",
        "            isinstance(layer, nn.Conv2d) or isinstance(layer, nn.Linear)\n",
        "        ) and \"id_mapping\" not in name:\n",
        "            # Your code here: generate a mask in GPU torch tensor to have 1 for nonzero element and 0 for zero element\n",
        "            weight_mask[name] = (layer.weight.detach().cpu().numpy() != 0).astype(float)\n",
        "            weight_mask[name] = torch.tensor(\n",
        "                weight_mask[name], dtype=torch.float32, device=layer.weight.device\n",
        "            )\n",
        "\n",
        "    global_steps = 0\n",
        "    train_loss = 0\n",
        "    correct = 0\n",
        "    total = 0\n",
        "    start = time.time()\n",
        "    for batch_idx, (inputs, targets) in enumerate(trainloader):\n",
        "        inputs, targets = inputs.to(device), targets.to(device)\n",
        "        optimizer.zero_grad()\n",
        "        outputs = net(inputs)\n",
        "        loss = criterion(outputs, targets)\n",
        "        loss.backward()\n",
        "        optimizer.step()\n",
        "\n",
        "        if prune:\n",
        "            for name, layer in net.named_modules():\n",
        "                if (\n",
        "                    isinstance(layer, nn.Conv2d) or isinstance(layer, nn.Linear)\n",
        "                ) and \"id_mapping\" not in name:\n",
        "                    # Your code here: Use weight_mask to make sure zero elements remains zero\n",
        "                    layer.weight.data.mul_(weight_mask[name])\n",
        "\n",
        "        train_loss += loss.item()\n",
        "        _, predicted = outputs.max(1)\n",
        "        total += targets.size(0)\n",
        "        correct += predicted.eq(targets).sum().item()\n",
        "        global_steps += 1\n",
        "\n",
        "        if global_steps % 50 == 0:\n",
        "            end = time.time()\n",
        "            batch_size = 256\n",
        "            num_examples_per_second = 50 * batch_size / (end - start)\n",
        "            print(\n",
        "                \"[Step=%d]\\tLoss=%.4f\\tacc=%.4f\\t%.1f examples/second\"\n",
        "                % (\n",
        "                    global_steps,\n",
        "                    train_loss / (batch_idx + 1),\n",
        "                    (correct / total),\n",
        "                    num_examples_per_second,\n",
        "                )\n",
        "            )\n",
        "            start = time.time()"
      ]
    },
    {
      "cell_type": "code",
      "execution_count": 19,
      "metadata": {
        "id": "Md2Iuz5FjQwD",
        "colab": {
          "base_uri": "https://localhost:8080/"
        },
        "outputId": "01884e80-e068-46cc-c1c2-718f571e9a25"
      },
      "outputs": [
        {
          "output_type": "stream",
          "name": "stderr",
          "text": [
            "<ipython-input-19-29d5f8d23722>:2: FutureWarning: You are using `torch.load` with `weights_only=False` (the current default value), which uses the default pickle module implicitly. It is possible to construct malicious pickle data which will execute arbitrary code during unpickling (See https://github.com/pytorch/pytorch/blob/main/SECURITY.md#untrusted-models for more details). In a future release, the default value for `weights_only` will be flipped to `True`. This limits the functions that could be executed during unpickling. Arbitrary objects will no longer be allowed to be loaded via this mode unless they are explicitly allowlisted by the user via `torch.serialization.add_safe_globals`. We recommend you start setting `weights_only=True` for any use case where you don't have full control of the loaded file. Please open an issue on GitHub for any issues related to this experimental feature.\n",
            "  net.load_state_dict(torch.load(\"/content/drive/My Drive/DLHW4/pretrained_model.pt\"))\n"
          ]
        },
        {
          "output_type": "stream",
          "name": "stdout",
          "text": [
            "==> Preparing data..\n",
            "Files already downloaded and verified\n"
          ]
        },
        {
          "output_type": "stream",
          "name": "stderr",
          "text": [
            "/usr/local/lib/python3.10/dist-packages/torch/utils/data/dataloader.py:617: UserWarning: This DataLoader will create 16 worker processes in total. Our suggested max number of worker in current system is 2, which is smaller than what this DataLoader is going to create. Please be aware that excessive worker creation might get DataLoader running slow or even freeze, lower the worker number to avoid potential slowness/freeze if necessary.\n",
            "  warnings.warn(\n"
          ]
        },
        {
          "output_type": "stream",
          "name": "stdout",
          "text": [
            "Files already downloaded and verified\n"
          ]
        }
      ],
      "source": [
        "# Get pruned model\n",
        "net.load_state_dict(torch.load(\"/content/drive/My Drive/DLHW4/pretrained_model.pt\"))\n",
        "for name, layer in net.named_modules():\n",
        "    if (\n",
        "        isinstance(layer, nn.Conv2d) or isinstance(layer, nn.Linear)\n",
        "    ) and \"id_mapping\" not in name:\n",
        "        prune_by_percentage(layer, q=70.0)\n",
        "\n",
        "# Training setup, do not change\n",
        "batch_size = 256\n",
        "lr = 0.002\n",
        "reg = 1e-4\n",
        "\n",
        "print(\"==> Preparing data..\")\n",
        "transform_train = transforms.Compose(\n",
        "    [\n",
        "        transforms.RandomCrop(32, padding=4),\n",
        "        transforms.RandomHorizontalFlip(),\n",
        "        transforms.ToTensor(),\n",
        "        transforms.Normalize((0.4914, 0.4822, 0.4465), (0.2023, 0.1994, 0.2010)),\n",
        "    ]\n",
        ")\n",
        "\n",
        "transform_test = transforms.Compose(\n",
        "    [\n",
        "        transforms.ToTensor(),\n",
        "        transforms.Normalize((0.4914, 0.4822, 0.4465), (0.2023, 0.1994, 0.2010)),\n",
        "    ]\n",
        ")\n",
        "best_acc = 0  # best test accuracy\n",
        "start_epoch = 0  # start from epoch 0 or last checkpoint epoch\n",
        "trainset = torchvision.datasets.CIFAR10(\n",
        "    root=\"./data\", train=True, download=True, transform=transform_train\n",
        ")\n",
        "trainloader = torch.utils.data.DataLoader(\n",
        "    trainset, batch_size=batch_size, shuffle=True, num_workers=16\n",
        ")\n",
        "\n",
        "testset = torchvision.datasets.CIFAR10(\n",
        "    root=\"./data\", train=False, download=True, transform=transform_test\n",
        ")\n",
        "testloader = torch.utils.data.DataLoader(\n",
        "    testset, batch_size=100, shuffle=False, num_workers=2\n",
        ")\n",
        "\n",
        "criterion = nn.CrossEntropyLoss()\n",
        "optimizer = optim.SGD(\n",
        "    net.parameters(), lr=lr, momentum=0.875, weight_decay=reg, nesterov=False\n",
        ")"
      ]
    },
    {
      "cell_type": "code",
      "execution_count": 20,
      "metadata": {
        "id": "OQhXG33ujQwE",
        "colab": {
          "base_uri": "https://localhost:8080/"
        },
        "outputId": "9925c1df-777f-4a01-bae5-5f4fee6d2014"
      },
      "outputs": [
        {
          "output_type": "stream",
          "name": "stdout",
          "text": [
            "\n",
            "Epoch: 0\n",
            "[Step=50]\tLoss=0.3978\tacc=0.8627\t1298.8 examples/second\n",
            "[Step=100]\tLoss=0.3551\tacc=0.8773\t2827.1 examples/second\n",
            "[Step=150]\tLoss=0.3323\tacc=0.8857\t2547.1 examples/second\n",
            "Test Loss=0.4261, Test acc=0.8667\n",
            "Saving...\n",
            "\n",
            "Epoch: 1\n",
            "[Step=50]\tLoss=0.2491\tacc=0.9147\t1636.9 examples/second\n",
            "[Step=100]\tLoss=0.2410\tacc=0.9179\t1737.4 examples/second\n",
            "[Step=150]\tLoss=0.2392\tacc=0.9179\t2797.5 examples/second\n",
            "Test Loss=0.3938, Test acc=0.8754\n",
            "Saving...\n",
            "\n",
            "Epoch: 2\n",
            "[Step=50]\tLoss=0.2200\tacc=0.9226\t1749.7 examples/second\n",
            "[Step=100]\tLoss=0.2159\tacc=0.9236\t2234.5 examples/second\n",
            "[Step=150]\tLoss=0.2139\tacc=0.9244\t2138.6 examples/second\n",
            "Test Loss=0.3795, Test acc=0.8794\n",
            "Saving...\n",
            "\n",
            "Epoch: 3\n",
            "[Step=50]\tLoss=0.2008\tacc=0.9305\t1330.7 examples/second\n",
            "[Step=100]\tLoss=0.2011\tacc=0.9300\t2757.1 examples/second\n",
            "[Step=150]\tLoss=0.1994\tacc=0.9311\t2349.1 examples/second\n",
            "Test Loss=0.3707, Test acc=0.8826\n",
            "Saving...\n",
            "\n",
            "Epoch: 4\n",
            "[Step=50]\tLoss=0.1950\tacc=0.9304\t1708.7 examples/second\n",
            "[Step=100]\tLoss=0.1871\tacc=0.9330\t1945.2 examples/second\n",
            "[Step=150]\tLoss=0.1904\tacc=0.9321\t2771.9 examples/second\n",
            "Test Loss=0.3643, Test acc=0.8841\n",
            "Saving...\n",
            "\n",
            "Epoch: 5\n",
            "[Step=50]\tLoss=0.1821\tacc=0.9355\t1681.9 examples/second\n",
            "[Step=100]\tLoss=0.1801\tacc=0.9377\t2362.1 examples/second\n",
            "[Step=150]\tLoss=0.1776\tacc=0.9387\t2090.2 examples/second\n",
            "Test Loss=0.3600, Test acc=0.8845\n",
            "Saving...\n",
            "\n",
            "Epoch: 6\n",
            "[Step=50]\tLoss=0.1820\tacc=0.9368\t1328.3 examples/second\n",
            "[Step=100]\tLoss=0.1787\tacc=0.9378\t2744.7 examples/second\n",
            "[Step=150]\tLoss=0.1773\tacc=0.9393\t2512.3 examples/second\n",
            "Test Loss=0.3550, Test acc=0.8870\n",
            "Saving...\n",
            "\n",
            "Epoch: 7\n",
            "[Step=50]\tLoss=0.1791\tacc=0.9357\t1647.5 examples/second\n",
            "[Step=100]\tLoss=0.1718\tacc=0.9391\t1943.1 examples/second\n",
            "[Step=150]\tLoss=0.1707\tacc=0.9404\t2772.5 examples/second\n",
            "Test Loss=0.3491, Test acc=0.8871\n",
            "Saving...\n",
            "\n",
            "Epoch: 8\n",
            "[Step=50]\tLoss=0.1623\tacc=0.9445\t1639.1 examples/second\n",
            "[Step=100]\tLoss=0.1664\tacc=0.9415\t2324.6 examples/second\n",
            "[Step=150]\tLoss=0.1671\tacc=0.9412\t2065.8 examples/second\n",
            "Test Loss=0.3483, Test acc=0.8882\n",
            "Saving...\n",
            "\n",
            "Epoch: 9\n",
            "[Step=50]\tLoss=0.1563\tacc=0.9443\t1324.0 examples/second\n",
            "[Step=100]\tLoss=0.1591\tacc=0.9447\t2706.3 examples/second\n",
            "[Step=150]\tLoss=0.1608\tacc=0.9444\t2406.4 examples/second\n",
            "Test Loss=0.3464, Test acc=0.8900\n",
            "Saving...\n",
            "\n",
            "Epoch: 10\n",
            "[Step=50]\tLoss=0.1583\tacc=0.9462\t1676.4 examples/second\n",
            "[Step=100]\tLoss=0.1661\tacc=0.9431\t1950.9 examples/second\n",
            "[Step=150]\tLoss=0.1624\tacc=0.9441\t2646.4 examples/second\n",
            "Test Loss=0.3445, Test acc=0.8898\n",
            "\n",
            "Epoch: 11\n",
            "[Step=50]\tLoss=0.1562\tacc=0.9445\t1708.3 examples/second\n",
            "[Step=100]\tLoss=0.1580\tacc=0.9452\t2321.1 examples/second\n",
            "[Step=150]\tLoss=0.1574\tacc=0.9451\t2128.1 examples/second\n",
            "Test Loss=0.3417, Test acc=0.8904\n",
            "Saving...\n",
            "\n",
            "Epoch: 12\n",
            "[Step=50]\tLoss=0.1555\tacc=0.9453\t1336.5 examples/second\n",
            "[Step=100]\tLoss=0.1604\tacc=0.9431\t2785.1 examples/second\n",
            "[Step=150]\tLoss=0.1574\tacc=0.9439\t2381.4 examples/second\n",
            "Test Loss=0.3399, Test acc=0.8919\n",
            "Saving...\n",
            "\n",
            "Epoch: 13\n",
            "[Step=50]\tLoss=0.1581\tacc=0.9441\t1567.8 examples/second\n",
            "[Step=100]\tLoss=0.1553\tacc=0.9455\t1986.5 examples/second\n",
            "[Step=150]\tLoss=0.1535\tacc=0.9462\t2790.7 examples/second\n",
            "Test Loss=0.3379, Test acc=0.8923\n",
            "Saving...\n",
            "\n",
            "Epoch: 14\n",
            "[Step=50]\tLoss=0.1449\tacc=0.9491\t1634.3 examples/second\n",
            "[Step=100]\tLoss=0.1424\tacc=0.9500\t2247.1 examples/second\n",
            "[Step=150]\tLoss=0.1433\tacc=0.9496\t2265.9 examples/second\n",
            "Test Loss=0.3386, Test acc=0.8933\n",
            "Saving...\n",
            "\n",
            "Epoch: 15\n",
            "[Step=50]\tLoss=0.1516\tacc=0.9467\t1306.6 examples/second\n",
            "[Step=100]\tLoss=0.1459\tacc=0.9498\t2605.0 examples/second\n",
            "[Step=150]\tLoss=0.1452\tacc=0.9504\t2213.9 examples/second\n",
            "Test Loss=0.3377, Test acc=0.8933\n",
            "\n",
            "Epoch: 16\n",
            "[Step=50]\tLoss=0.1412\tacc=0.9495\t1556.6 examples/second\n",
            "[Step=100]\tLoss=0.1470\tacc=0.9477\t2164.4 examples/second\n",
            "[Step=150]\tLoss=0.1462\tacc=0.9483\t2539.2 examples/second\n",
            "Test Loss=0.3357, Test acc=0.8937\n",
            "Saving...\n",
            "\n",
            "Epoch: 17\n",
            "[Step=50]\tLoss=0.1484\tacc=0.9478\t1672.2 examples/second\n",
            "[Step=100]\tLoss=0.1462\tacc=0.9489\t2015.8 examples/second\n",
            "[Step=150]\tLoss=0.1479\tacc=0.9482\t2511.4 examples/second\n",
            "Test Loss=0.3369, Test acc=0.8925\n",
            "\n",
            "Epoch: 18\n",
            "[Step=50]\tLoss=0.1421\tacc=0.9528\t1366.9 examples/second\n",
            "[Step=100]\tLoss=0.1422\tacc=0.9524\t2754.5 examples/second\n",
            "[Step=150]\tLoss=0.1426\tacc=0.9516\t1999.4 examples/second\n",
            "Test Loss=0.3352, Test acc=0.8937\n",
            "\n",
            "Epoch: 19\n",
            "[Step=50]\tLoss=0.1352\tacc=0.9541\t1425.9 examples/second\n",
            "[Step=100]\tLoss=0.1359\tacc=0.9539\t2424.3 examples/second\n",
            "[Step=150]\tLoss=0.1401\tacc=0.9523\t2797.3 examples/second\n",
            "Test Loss=0.3337, Test acc=0.8943\n",
            "Saving...\n"
          ]
        }
      ],
      "source": [
        "# Model finetuning\n",
        "for epoch in range(20):\n",
        "    print(\"\\nEpoch: %d\" % epoch)\n",
        "    net.train()\n",
        "    finetune_after_prune(net, trainloader, criterion, optimizer)\n",
        "    # Start the testing code.\n",
        "    net.eval()\n",
        "    test_loss = 0\n",
        "    correct = 0\n",
        "    total = 0\n",
        "    with torch.no_grad():\n",
        "        for batch_idx, (inputs, targets) in enumerate(testloader):\n",
        "            inputs, targets = inputs.to(device), targets.to(device)\n",
        "            outputs = net(inputs)\n",
        "            loss = criterion(outputs, targets)\n",
        "\n",
        "            test_loss += loss.item()\n",
        "            _, predicted = outputs.max(1)\n",
        "            total += targets.size(0)\n",
        "            correct += predicted.eq(targets).sum().item()\n",
        "    num_val_steps = len(testloader)\n",
        "    val_acc = correct / total\n",
        "    print(\"Test Loss=%.4f, Test acc=%.4f\" % (test_loss / (num_val_steps), val_acc))\n",
        "\n",
        "    if val_acc > best_acc:\n",
        "        best_acc = val_acc\n",
        "        print(\"Saving...\")\n",
        "        torch.save(net.state_dict(), \"/content/drive/My Drive/DLHW4/net_after_finetune.pt\")"
      ]
    },
    {
      "cell_type": "code",
      "execution_count": 22,
      "metadata": {
        "id": "9nHTUnkcjQwE",
        "colab": {
          "base_uri": "https://localhost:8080/"
        },
        "outputId": "ec2d33da-8b64-4d4e-a411-584a9626ba2e"
      },
      "outputs": [
        {
          "output_type": "stream",
          "name": "stderr",
          "text": [
            "<ipython-input-22-2b35f04f0af1>:2: FutureWarning: You are using `torch.load` with `weights_only=False` (the current default value), which uses the default pickle module implicitly. It is possible to construct malicious pickle data which will execute arbitrary code during unpickling (See https://github.com/pytorch/pytorch/blob/main/SECURITY.md#untrusted-models for more details). In a future release, the default value for `weights_only` will be flipped to `True`. This limits the functions that could be executed during unpickling. Arbitrary objects will no longer be allowed to be loaded via this mode unless they are explicitly allowlisted by the user via `torch.serialization.add_safe_globals`. We recommend you start setting `weights_only=True` for any use case where you don't have full control of the loaded file. Please open an issue on GitHub for any issues related to this experimental feature.\n",
            "  net.load_state_dict(torch.load(\"/content/drive/My Drive/DLHW4/net_after_finetune.pt\"))\n"
          ]
        },
        {
          "output_type": "stream",
          "name": "stdout",
          "text": [
            "Sparsity of head_conv.0.conv: 0.6990740740740741\n",
            "Sparsity of body_op.0.conv1.0.conv: 0.7000868055555556\n",
            "Sparsity of body_op.0.conv2.0.conv: 0.7000868055555556\n",
            "Sparsity of body_op.1.conv1.0.conv: 0.7000868055555556\n",
            "Sparsity of body_op.1.conv2.0.conv: 0.7000868055555556\n",
            "Sparsity of body_op.2.conv1.0.conv: 0.7000868055555556\n",
            "Sparsity of body_op.2.conv2.0.conv: 0.7000868055555556\n",
            "Sparsity of body_op.3.conv1.0.conv: 0.6998697916666666\n",
            "Sparsity of body_op.3.conv2.0.conv: 0.6999782986111112\n",
            "Sparsity of body_op.4.conv1.0.conv: 0.6999782986111112\n",
            "Sparsity of body_op.4.conv2.0.conv: 0.6999782986111112\n",
            "Sparsity of body_op.5.conv1.0.conv: 0.6999782986111112\n",
            "Sparsity of body_op.5.conv2.0.conv: 0.6999782986111112\n",
            "Sparsity of body_op.6.conv1.0.conv: 0.6999782986111112\n",
            "Sparsity of body_op.6.conv2.0.conv: 0.7000054253472222\n",
            "Sparsity of body_op.7.conv1.0.conv: 0.7000054253472222\n",
            "Sparsity of body_op.7.conv2.0.conv: 0.7000054253472222\n",
            "Sparsity of body_op.8.conv1.0.conv: 0.7000054253472222\n",
            "Sparsity of body_op.8.conv2.0.conv: 0.7000054253472222\n",
            "Sparsity of final_fc.linear: 0.7\n",
            "Files already downloaded and verified\n",
            "Test Loss=0.3337, Test accuracy=0.8943\n"
          ]
        }
      ],
      "source": [
        "# Check sparsity of the finetuned model, make sure it's not changed\n",
        "net.load_state_dict(torch.load(\"/content/drive/My Drive/DLHW4/net_after_finetune.pt\"))\n",
        "\n",
        "for name, layer in net.named_modules():\n",
        "    if (\n",
        "        isinstance(layer, nn.Conv2d) or isinstance(layer, nn.Linear)\n",
        "    ) and \"id_mapping\" not in name:\n",
        "        # Your code here:\n",
        "        # Convert the weight of \"layer\" to numpy array\n",
        "        np_weight = layer.weight.data.cpu().numpy()\n",
        "        # Count number of zeros\n",
        "        zeros = np.sum(np_weight == 0)\n",
        "        # Count number of parameters\n",
        "        total = np_weight.size\n",
        "        # Print sparsity\n",
        "        print(\"Sparsity of \" + name + \": \" + str(zeros / total))\n",
        "\n",
        "test(net)"
      ]
    },
    {
      "cell_type": "markdown",
      "metadata": {
        "id": "5PjHI9VrjQwE"
      },
      "source": [
        "### Lab2 (d) Iterative pruning"
      ]
    },
    {
      "cell_type": "code",
      "execution_count": 12,
      "metadata": {
        "id": "HBILUA6OjQwE",
        "colab": {
          "base_uri": "https://localhost:8080/",
          "height": 300
        },
        "outputId": "baf4ec8f-f0be-4181-fa33-b8462fdb003c"
      },
      "outputs": [
        {
          "output_type": "stream",
          "name": "stdout",
          "text": [
            "\n",
            "Epoch: 0\n"
          ]
        },
        {
          "output_type": "stream",
          "name": "stderr",
          "text": [
            "<ipython-input-12-f991dd140570>:1: FutureWarning: You are using `torch.load` with `weights_only=False` (the current default value), which uses the default pickle module implicitly. It is possible to construct malicious pickle data which will execute arbitrary code during unpickling (See https://github.com/pytorch/pytorch/blob/main/SECURITY.md#untrusted-models for more details). In a future release, the default value for `weights_only` will be flipped to `True`. This limits the functions that could be executed during unpickling. Arbitrary objects will no longer be allowed to be loaded via this mode unless they are explicitly allowlisted by the user via `torch.serialization.add_safe_globals`. We recommend you start setting `weights_only=True` for any use case where you don't have full control of the loaded file. Please open an issue on GitHub for any issues related to this experimental feature.\n",
            "  net.load_state_dict(torch.load(\"/content/drive/My Drive/DLHW4/pretrained_model.pt\"))\n"
          ]
        },
        {
          "output_type": "error",
          "ename": "NameError",
          "evalue": "name 'prune_by_percentage' is not defined",
          "traceback": [
            "\u001b[0;31m---------------------------------------------------------------------------\u001b[0m",
            "\u001b[0;31mNameError\u001b[0m                                 Traceback (most recent call last)",
            "\u001b[0;32m<ipython-input-12-f991dd140570>\u001b[0m in \u001b[0;36m<cell line: 3>\u001b[0;34m()\u001b[0m\n\u001b[1;32m     12\u001b[0m                 \u001b[0;31m# Increase model sparsity\u001b[0m\u001b[0;34m\u001b[0m\u001b[0;34m\u001b[0m\u001b[0m\n\u001b[1;32m     13\u001b[0m                 \u001b[0mq\u001b[0m \u001b[0;34m=\u001b[0m \u001b[0;34m(\u001b[0m\u001b[0mepoch\u001b[0m \u001b[0;34m+\u001b[0m \u001b[0;36m1\u001b[0m\u001b[0;34m)\u001b[0m \u001b[0;34m*\u001b[0m \u001b[0;36m7\u001b[0m\u001b[0;34m\u001b[0m\u001b[0;34m\u001b[0m\u001b[0m\n\u001b[0;32m---> 14\u001b[0;31m                 \u001b[0mprune_by_percentage\u001b[0m\u001b[0;34m(\u001b[0m\u001b[0mlayer\u001b[0m\u001b[0;34m,\u001b[0m \u001b[0mq\u001b[0m\u001b[0;34m=\u001b[0m\u001b[0mq\u001b[0m\u001b[0;34m)\u001b[0m\u001b[0;34m\u001b[0m\u001b[0;34m\u001b[0m\u001b[0m\n\u001b[0m\u001b[1;32m     15\u001b[0m     \u001b[0;32mif\u001b[0m \u001b[0mepoch\u001b[0m \u001b[0;34m<\u001b[0m \u001b[0;36m9\u001b[0m\u001b[0;34m:\u001b[0m\u001b[0;34m\u001b[0m\u001b[0;34m\u001b[0m\u001b[0m\n\u001b[1;32m     16\u001b[0m         \u001b[0mfinetune_after_prune\u001b[0m\u001b[0;34m(\u001b[0m\u001b[0mnet\u001b[0m\u001b[0;34m,\u001b[0m \u001b[0mtrainloader\u001b[0m\u001b[0;34m,\u001b[0m \u001b[0mcriterion\u001b[0m\u001b[0;34m,\u001b[0m \u001b[0moptimizer\u001b[0m\u001b[0;34m,\u001b[0m \u001b[0mprune\u001b[0m\u001b[0;34m=\u001b[0m\u001b[0;32mFalse\u001b[0m\u001b[0;34m)\u001b[0m\u001b[0;34m\u001b[0m\u001b[0;34m\u001b[0m\u001b[0m\n",
            "\u001b[0;31mNameError\u001b[0m: name 'prune_by_percentage' is not defined"
          ]
        }
      ],
      "source": [
        "net.load_state_dict(torch.load(\"/content/drive/My Drive/DLHW4/pretrained_model.pt\"))\n",
        "best_acc = 0.0\n",
        "for epoch in range(20):\n",
        "    print(\"\\nEpoch: %d\" % epoch)\n",
        "\n",
        "    net.train()\n",
        "    if epoch < 10:\n",
        "        for name, layer in net.named_modules():\n",
        "            if (\n",
        "                isinstance(layer, nn.Conv2d) or isinstance(layer, nn.Linear)\n",
        "            ) and \"id_mapping\" not in name:\n",
        "                # Increase model sparsity\n",
        "                q = (epoch + 1) * 7\n",
        "                prune_by_percentage(layer, q=q)\n",
        "    if epoch < 9:\n",
        "        finetune_after_prune(net, trainloader, criterion, optimizer, prune=False)\n",
        "    else:\n",
        "        finetune_after_prune(net, trainloader, criterion, optimizer)\n",
        "\n",
        "    # Start the testing code.\n",
        "    net.eval()\n",
        "    test_loss = 0\n",
        "    correct = 0\n",
        "    total = 0\n",
        "    with torch.no_grad():\n",
        "        for batch_idx, (inputs, targets) in enumerate(testloader):\n",
        "            inputs, targets = inputs.to(device), targets.to(device)\n",
        "            outputs = net(inputs)\n",
        "            loss = criterion(outputs, targets)\n",
        "\n",
        "            test_loss += loss.item()\n",
        "            _, predicted = outputs.max(1)\n",
        "            total += targets.size(0)\n",
        "            correct += predicted.eq(targets).sum().item()\n",
        "    num_val_steps = len(testloader)\n",
        "    val_acc = correct / total\n",
        "    print(\"Test Loss=%.4f, Test acc=%.4f\" % (test_loss / (num_val_steps), val_acc))\n",
        "\n",
        "    if epoch >= 10:\n",
        "        if val_acc > best_acc:\n",
        "            best_acc = val_acc\n",
        "            print(\"Saving...\")\n",
        "            torch.save(net.state_dict(), \"/content/drive/My Drive/DLHW4/net_after_iterative_prune.pt\")"
      ]
    },
    {
      "cell_type": "code",
      "execution_count": 13,
      "metadata": {
        "id": "Pp3oMXT0jQwE",
        "colab": {
          "base_uri": "https://localhost:8080/"
        },
        "outputId": "00d6e30a-d52b-43d6-f7f4-608537a038c7"
      },
      "outputs": [
        {
          "output_type": "stream",
          "name": "stderr",
          "text": [
            "<ipython-input-13-928cbabe87b8>:2: FutureWarning: You are using `torch.load` with `weights_only=False` (the current default value), which uses the default pickle module implicitly. It is possible to construct malicious pickle data which will execute arbitrary code during unpickling (See https://github.com/pytorch/pytorch/blob/main/SECURITY.md#untrusted-models for more details). In a future release, the default value for `weights_only` will be flipped to `True`. This limits the functions that could be executed during unpickling. Arbitrary objects will no longer be allowed to be loaded via this mode unless they are explicitly allowlisted by the user via `torch.serialization.add_safe_globals`. We recommend you start setting `weights_only=True` for any use case where you don't have full control of the loaded file. Please open an issue on GitHub for any issues related to this experimental feature.\n",
            "  net.load_state_dict(torch.load(\"/content/drive/My Drive/DLHW4/net_after_iterative_prune.pt\"))\n"
          ]
        },
        {
          "output_type": "stream",
          "name": "stdout",
          "text": [
            "Sparsity of head_conv.0.conv: 0.6990740740740741\n",
            "Sparsity of body_op.0.conv1.0.conv: 0.7000868055555556\n",
            "Sparsity of body_op.0.conv2.0.conv: 0.7000868055555556\n",
            "Sparsity of body_op.1.conv1.0.conv: 0.7000868055555556\n",
            "Sparsity of body_op.1.conv2.0.conv: 0.7000868055555556\n",
            "Sparsity of body_op.2.conv1.0.conv: 0.7000868055555556\n",
            "Sparsity of body_op.2.conv2.0.conv: 0.7000868055555556\n",
            "Sparsity of body_op.3.conv1.0.conv: 0.6998697916666666\n",
            "Sparsity of body_op.3.conv2.0.conv: 0.6999782986111112\n",
            "Sparsity of body_op.4.conv1.0.conv: 0.6999782986111112\n",
            "Sparsity of body_op.4.conv2.0.conv: 0.6999782986111112\n",
            "Sparsity of body_op.5.conv1.0.conv: 0.6999782986111112\n",
            "Sparsity of body_op.5.conv2.0.conv: 0.6999782986111112\n",
            "Sparsity of body_op.6.conv1.0.conv: 0.6999782986111112\n",
            "Sparsity of body_op.6.conv2.0.conv: 0.7000054253472222\n",
            "Sparsity of body_op.7.conv1.0.conv: 0.7000054253472222\n",
            "Sparsity of body_op.7.conv2.0.conv: 0.7000054253472222\n",
            "Sparsity of body_op.8.conv1.0.conv: 0.7000054253472222\n",
            "Sparsity of body_op.8.conv2.0.conv: 0.7000054253472222\n",
            "Sparsity of final_fc.linear: 0.7\n",
            "Files already downloaded and verified\n",
            "Test Loss=0.4127, Test accuracy=0.8765\n"
          ]
        }
      ],
      "source": [
        "# Check sparsity of the final model, make sure it's 70%\n",
        "net.load_state_dict(torch.load(\"/content/drive/My Drive/DLHW4/net_after_iterative_prune.pt\"))\n",
        "\n",
        "for name,layer in net.named_modules():\n",
        "    if (isinstance(layer, nn.Conv2d) or isinstance(layer, nn.Linear)) and 'id_mapping' not in name:\n",
        "        # Convert the weight of \"layer\" to numpy array\n",
        "        np_weight = layer.weight.data.cpu().numpy()\n",
        "        # Count number of zeros\n",
        "        zeros = np.sum(np_weight == 0)\n",
        "        # Count number of parameters\n",
        "        total = np_weight.size\n",
        "        # Print sparsity\n",
        "        print(\"Sparsity of \" + name + \": \" + str(zeros / total))\n",
        "#updates\n",
        "test(net)"
      ]
    },
    {
      "cell_type": "markdown",
      "metadata": {
        "id": "cHbfoTsQjQwE"
      },
      "source": [
        "### Lab2 (e) Global iterative pruning"
      ]
    },
    {
      "cell_type": "code",
      "execution_count": 29,
      "metadata": {
        "id": "26k00xi0jQwE"
      },
      "outputs": [],
      "source": [
        "def global_prune_by_percentage(net, q=70.0):\n",
        "    \"\"\"\n",
        "    Pruning the weight paramters by threshold.\n",
        "    :param q: pruning percentile. 'q' percent of the least\n",
        "    significant weight parameters will be pruned.\n",
        "    \"\"\"\n",
        "    # A list to gather all the weights\n",
        "    flattened_weights = []\n",
        "    # Find global pruning threshold\n",
        "    for name,layer in net.named_modules():\n",
        "        if (isinstance(layer, nn.Conv2d) or isinstance(layer, nn.Linear)) and 'id_mapping' not in name:\n",
        "            # Convert weight to numpy\n",
        "            weight = layer.weight.data.cpu().numpy()\n",
        "            # Flatten the weight and append to flattened_weights\n",
        "            flattened_weights.append(weight.flatten())\n",
        "    # Concate all weights into a np array\n",
        "    flattened_weights = np.concatenate(flattened_weights)\n",
        "    # Find global pruning threshold\n",
        "    thres = np.percentile(np.abs(flattened_weights), q)\n",
        "    # Prune the model\n",
        "\n",
        "    # Apply pruning threshold to all layers\n",
        "    for name,layer in net.named_modules():\n",
        "        if (isinstance(layer, nn.Conv2d) or isinstance(layer, nn.Linear)) and 'id_mapping' not in name:\n",
        "            # Convert weight to numpy\n",
        "            weight = layer.weight.data.cpu().numpy()\n",
        "            # Generate a binary mask same shape as weight to decide which element to prune\n",
        "            mask = np.abs(weight) >= thres\n",
        "            # Convert mask to torch tensor and put on GPU\n",
        "            mask_tensor = torch.tensor(mask, dtype=torch.float32, device=layer.weight.device)\n",
        "            # Multiply the weight by mask to perform pruning\n",
        "            layer.weight.data.mul_(mask_tensor)"
      ]
    },
    {
      "cell_type": "code",
      "execution_count": 31,
      "metadata": {
        "id": "hAJkal0_jQwF",
        "colab": {
          "base_uri": "https://localhost:8080/"
        },
        "outputId": "b92c283f-a882-48cd-8aaa-6829e7694c33"
      },
      "outputs": [
        {
          "output_type": "stream",
          "name": "stdout",
          "text": [
            "\n",
            "Epoch: 0\n"
          ]
        },
        {
          "output_type": "stream",
          "name": "stderr",
          "text": [
            "<ipython-input-31-0fae29713af6>:1: FutureWarning: You are using `torch.load` with `weights_only=False` (the current default value), which uses the default pickle module implicitly. It is possible to construct malicious pickle data which will execute arbitrary code during unpickling (See https://github.com/pytorch/pytorch/blob/main/SECURITY.md#untrusted-models for more details). In a future release, the default value for `weights_only` will be flipped to `True`. This limits the functions that could be executed during unpickling. Arbitrary objects will no longer be allowed to be loaded via this mode unless they are explicitly allowlisted by the user via `torch.serialization.add_safe_globals`. We recommend you start setting `weights_only=True` for any use case where you don't have full control of the loaded file. Please open an issue on GitHub for any issues related to this experimental feature.\n",
            "  net.load_state_dict(torch.load(\"/content/drive/My Drive/DLHW4/pretrained_model.pt\"))\n"
          ]
        },
        {
          "output_type": "stream",
          "name": "stdout",
          "text": [
            "[Step=50]\tLoss=0.0473\tacc=0.9862\t1314.2 examples/second\n",
            "[Step=100]\tLoss=0.0484\tacc=0.9847\t2610.8 examples/second\n",
            "[Step=150]\tLoss=0.0479\tacc=0.9849\t2828.4 examples/second\n",
            "Test Loss=0.3257, Test acc=0.9139\n",
            "\n",
            "Epoch: 1\n",
            "[Step=50]\tLoss=0.0472\tacc=0.9846\t1752.6 examples/second\n",
            "[Step=100]\tLoss=0.0479\tacc=0.9842\t1902.3 examples/second\n",
            "[Step=150]\tLoss=0.0482\tacc=0.9846\t2562.6 examples/second\n",
            "Test Loss=0.3255, Test acc=0.9153\n",
            "\n",
            "Epoch: 2\n",
            "[Step=50]\tLoss=0.0477\tacc=0.9849\t1425.8 examples/second\n",
            "[Step=100]\tLoss=0.0462\tacc=0.9859\t2800.7 examples/second\n",
            "[Step=150]\tLoss=0.0473\tacc=0.9853\t1897.2 examples/second\n",
            "Test Loss=0.3251, Test acc=0.9139\n",
            "\n",
            "Epoch: 3\n",
            "[Step=50]\tLoss=0.0484\tacc=0.9850\t1405.5 examples/second\n",
            "[Step=100]\tLoss=0.0494\tacc=0.9846\t2464.1 examples/second\n",
            "[Step=150]\tLoss=0.0490\tacc=0.9851\t2825.1 examples/second\n",
            "Test Loss=0.3282, Test acc=0.9130\n",
            "\n",
            "Epoch: 4\n",
            "[Step=50]\tLoss=0.0549\tacc=0.9826\t1667.0 examples/second\n",
            "[Step=100]\tLoss=0.0534\tacc=0.9830\t1958.4 examples/second\n",
            "[Step=150]\tLoss=0.0535\tacc=0.9826\t2538.7 examples/second\n",
            "Test Loss=0.3251, Test acc=0.9137\n",
            "\n",
            "Epoch: 5\n",
            "[Step=50]\tLoss=0.0639\tacc=0.9793\t1318.8 examples/second\n",
            "[Step=100]\tLoss=0.0626\tacc=0.9799\t2731.1 examples/second\n",
            "[Step=150]\tLoss=0.0623\tacc=0.9800\t1919.9 examples/second\n",
            "Test Loss=0.3233, Test acc=0.9118\n",
            "\n",
            "Epoch: 6\n",
            "[Step=50]\tLoss=0.0783\tacc=0.9737\t1420.8 examples/second\n",
            "[Step=100]\tLoss=0.0751\tacc=0.9744\t2297.8 examples/second\n",
            "[Step=150]\tLoss=0.0727\tacc=0.9758\t2815.7 examples/second\n",
            "Test Loss=0.3235, Test acc=0.9096\n",
            "\n",
            "Epoch: 7\n",
            "[Step=50]\tLoss=0.0907\tacc=0.9688\t1724.9 examples/second\n",
            "[Step=100]\tLoss=0.0927\tacc=0.9677\t2066.6 examples/second\n",
            "[Step=150]\tLoss=0.0901\tacc=0.9691\t2284.7 examples/second\n",
            "Test Loss=0.3272, Test acc=0.9064\n",
            "\n",
            "Epoch: 8\n",
            "[Step=50]\tLoss=0.1241\tacc=0.9578\t1350.0 examples/second\n",
            "[Step=100]\tLoss=0.1202\tacc=0.9586\t2803.9 examples/second\n",
            "[Step=150]\tLoss=0.1192\tacc=0.9588\t2028.8 examples/second\n",
            "Test Loss=0.3252, Test acc=0.9022\n",
            "\n",
            "Epoch: 9\n",
            "[Step=50]\tLoss=0.1851\tacc=0.9357\t1515.5 examples/second\n",
            "[Step=100]\tLoss=0.1772\tacc=0.9391\t2186.7 examples/second\n",
            "[Step=150]\tLoss=0.1746\tacc=0.9404\t2777.4 examples/second\n",
            "Test Loss=0.3425, Test acc=0.8887\n",
            "\n",
            "Epoch: 10\n",
            "[Step=50]\tLoss=0.1587\tacc=0.9466\t1726.8 examples/second\n",
            "[Step=100]\tLoss=0.1607\tacc=0.9448\t2122.6 examples/second\n",
            "[Step=150]\tLoss=0.1586\tacc=0.9457\t2392.8 examples/second\n",
            "Test Loss=0.3341, Test acc=0.8916\n",
            "Saving...\n",
            "\n",
            "Epoch: 11\n",
            "[Step=50]\tLoss=0.1486\tacc=0.9496\t1253.5 examples/second\n",
            "[Step=100]\tLoss=0.1481\tacc=0.9498\t2807.9 examples/second\n",
            "[Step=150]\tLoss=0.1496\tacc=0.9488\t2254.3 examples/second\n",
            "Test Loss=0.3304, Test acc=0.8934\n",
            "Saving...\n",
            "\n",
            "Epoch: 12\n",
            "[Step=50]\tLoss=0.1497\tacc=0.9470\t1563.5 examples/second\n",
            "[Step=100]\tLoss=0.1478\tacc=0.9480\t2012.6 examples/second\n",
            "[Step=150]\tLoss=0.1450\tacc=0.9492\t2713.8 examples/second\n",
            "Test Loss=0.3260, Test acc=0.8944\n",
            "Saving...\n",
            "\n",
            "Epoch: 13\n",
            "[Step=50]\tLoss=0.1408\tacc=0.9507\t1723.4 examples/second\n",
            "[Step=100]\tLoss=0.1417\tacc=0.9511\t2234.3 examples/second\n",
            "[Step=150]\tLoss=0.1399\tacc=0.9520\t2140.7 examples/second\n",
            "Test Loss=0.3237, Test acc=0.8963\n",
            "Saving...\n",
            "\n",
            "Epoch: 14\n",
            "[Step=50]\tLoss=0.1369\tacc=0.9520\t1315.6 examples/second\n",
            "[Step=100]\tLoss=0.1382\tacc=0.9516\t2784.1 examples/second\n",
            "[Step=150]\tLoss=0.1373\tacc=0.9520\t2503.0 examples/second\n",
            "Test Loss=0.3225, Test acc=0.8964\n",
            "Saving...\n",
            "\n",
            "Epoch: 15\n",
            "[Step=50]\tLoss=0.1385\tacc=0.9510\t1737.0 examples/second\n",
            "[Step=100]\tLoss=0.1357\tacc=0.9536\t1881.3 examples/second\n",
            "[Step=150]\tLoss=0.1344\tacc=0.9541\t2722.2 examples/second\n",
            "Test Loss=0.3214, Test acc=0.8968\n",
            "Saving...\n",
            "\n",
            "Epoch: 16\n",
            "[Step=50]\tLoss=0.1318\tacc=0.9559\t1421.9 examples/second\n",
            "[Step=100]\tLoss=0.1302\tacc=0.9565\t2774.8 examples/second\n",
            "[Step=150]\tLoss=0.1317\tacc=0.9559\t1870.4 examples/second\n",
            "Test Loss=0.3190, Test acc=0.8974\n",
            "Saving...\n",
            "\n",
            "Epoch: 17\n",
            "[Step=50]\tLoss=0.1250\tacc=0.9579\t1353.5 examples/second\n",
            "[Step=100]\tLoss=0.1284\tacc=0.9563\t2547.3 examples/second\n",
            "[Step=150]\tLoss=0.1285\tacc=0.9563\t2746.3 examples/second\n",
            "Test Loss=0.3186, Test acc=0.8982\n",
            "Saving...\n",
            "\n",
            "Epoch: 18\n",
            "[Step=50]\tLoss=0.1284\tacc=0.9563\t1740.1 examples/second\n",
            "[Step=100]\tLoss=0.1292\tacc=0.9562\t1946.3 examples/second\n",
            "[Step=150]\tLoss=0.1312\tacc=0.9554\t2479.2 examples/second\n",
            "Test Loss=0.3164, Test acc=0.8978\n",
            "\n",
            "Epoch: 19\n",
            "[Step=50]\tLoss=0.1265\tacc=0.9577\t1315.5 examples/second\n",
            "[Step=100]\tLoss=0.1271\tacc=0.9568\t2806.3 examples/second\n",
            "[Step=150]\tLoss=0.1262\tacc=0.9573\t2088.2 examples/second\n",
            "Test Loss=0.3158, Test acc=0.8987\n",
            "Saving...\n"
          ]
        }
      ],
      "source": [
        "net.load_state_dict(torch.load(\"/content/drive/My Drive/DLHW4/pretrained_model.pt\"))\n",
        "best_acc = 0.0\n",
        "for epoch in range(20):\n",
        "    print(\"\\nEpoch: %d\" % epoch)\n",
        "    q = (epoch + 1) * 7\n",
        "\n",
        "    net.train()\n",
        "    # Increase model sparsity\n",
        "    if epoch < 10:\n",
        "        global_prune_by_percentage(net, q=q)\n",
        "    if epoch < 9:\n",
        "        finetune_after_prune(net, trainloader, criterion, optimizer, prune=False)\n",
        "    else:\n",
        "        finetune_after_prune(net, trainloader, criterion, optimizer)\n",
        "\n",
        "    # Start the testing code.\n",
        "    net.eval()\n",
        "    test_loss = 0\n",
        "    correct = 0\n",
        "    total = 0\n",
        "    with torch.no_grad():\n",
        "        for batch_idx, (inputs, targets) in enumerate(testloader):\n",
        "            inputs, targets = inputs.to(device), targets.to(device)\n",
        "            outputs = net(inputs)\n",
        "            loss = criterion(outputs, targets)\n",
        "\n",
        "            test_loss += loss.item()\n",
        "            _, predicted = outputs.max(1)\n",
        "            total += targets.size(0)\n",
        "            correct += predicted.eq(targets).sum().item()\n",
        "    num_val_steps = len(testloader)\n",
        "    val_acc = correct / total\n",
        "    print(\"Test Loss=%.4f, Test acc=%.4f\" % (test_loss / (num_val_steps), val_acc))\n",
        "\n",
        "    if epoch >= 10:\n",
        "        if val_acc > best_acc:\n",
        "            best_acc = val_acc\n",
        "            print(\"Saving...\")\n",
        "            torch.save(net.state_dict(), \"/content/drive/My Drive/DLHW4/net_after_global_iterative_prune.pt\")"
      ]
    },
    {
      "cell_type": "code",
      "execution_count": 32,
      "metadata": {
        "id": "T_-mWAkBjQwF",
        "colab": {
          "base_uri": "https://localhost:8080/"
        },
        "outputId": "71d73c45-ffdd-45ac-a921-57d5c3d7adff"
      },
      "outputs": [
        {
          "output_type": "stream",
          "name": "stderr",
          "text": [
            "<ipython-input-32-e491f61d38f0>:1: FutureWarning: You are using `torch.load` with `weights_only=False` (the current default value), which uses the default pickle module implicitly. It is possible to construct malicious pickle data which will execute arbitrary code during unpickling (See https://github.com/pytorch/pytorch/blob/main/SECURITY.md#untrusted-models for more details). In a future release, the default value for `weights_only` will be flipped to `True`. This limits the functions that could be executed during unpickling. Arbitrary objects will no longer be allowed to be loaded via this mode unless they are explicitly allowlisted by the user via `torch.serialization.add_safe_globals`. We recommend you start setting `weights_only=True` for any use case where you don't have full control of the loaded file. Please open an issue on GitHub for any issues related to this experimental feature.\n",
            "  net.load_state_dict(torch.load(\"/content/drive/My Drive/DLHW4/net_after_global_iterative_prune.pt\"))\n"
          ]
        },
        {
          "output_type": "stream",
          "name": "stdout",
          "text": [
            "Sparsity of head_conv.0.conv: 0.24537037037037038\n",
            "Sparsity of body_op.0.conv1.0.conv: 0.5503472222222222\n",
            "Sparsity of body_op.0.conv2.0.conv: 0.5277777777777778\n",
            "Sparsity of body_op.1.conv1.0.conv: 0.5199652777777778\n",
            "Sparsity of body_op.1.conv2.0.conv: 0.5533854166666666\n",
            "Sparsity of body_op.2.conv1.0.conv: 0.5164930555555556\n",
            "Sparsity of body_op.2.conv2.0.conv: 0.5659722222222222\n",
            "Sparsity of body_op.3.conv1.0.conv: 0.5260416666666666\n",
            "Sparsity of body_op.3.conv2.0.conv: 0.5831163194444444\n",
            "Sparsity of body_op.4.conv1.0.conv: 0.6156684027777778\n",
            "Sparsity of body_op.4.conv2.0.conv: 0.6773003472222222\n",
            "Sparsity of body_op.5.conv1.0.conv: 0.6115451388888888\n",
            "Sparsity of body_op.5.conv2.0.conv: 0.7035590277777778\n",
            "Sparsity of body_op.6.conv1.0.conv: 0.6151801215277778\n",
            "Sparsity of body_op.6.conv2.0.conv: 0.6510687934027778\n",
            "Sparsity of body_op.7.conv1.0.conv: 0.6620008680555556\n",
            "Sparsity of body_op.7.conv2.0.conv: 0.7189670138888888\n",
            "Sparsity of body_op.8.conv1.0.conv: 0.7479112413194444\n",
            "Sparsity of body_op.8.conv2.0.conv: 0.9371744791666666\n",
            "Sparsity of final_fc.linear: 0.1203125\n",
            "Total sparsity of: 0.6999992546657922\n",
            "Files already downloaded and verified\n",
            "Test Loss=0.3158, Test accuracy=0.8987\n"
          ]
        }
      ],
      "source": [
        "net.load_state_dict(torch.load(\"/content/drive/My Drive/DLHW4/net_after_global_iterative_prune.pt\"))\n",
        "\n",
        "zeros_sum = 0\n",
        "total_sum = 0\n",
        "for name, layer in net.named_modules():\n",
        "    if (\n",
        "        isinstance(layer, nn.Conv2d) or isinstance(layer, nn.Linear)\n",
        "    ) and \"id_mapping\" not in name:\n",
        "        # Your code here:\n",
        "        # Convert the weight of \"layer\" to numpy array\n",
        "        np_weight = layer.weight.data.cpu().numpy()\n",
        "        # Count number of zeros\n",
        "        zeros = np.sum(np_weight == 0)\n",
        "        # Count number of parameters\n",
        "        total = np_weight.size\n",
        "        zeros_sum += zeros\n",
        "        total_sum += total\n",
        "        print(\"Sparsity of \" + name + \": \" + str(zeros / total))\n",
        "print(\"Total sparsity of: \" + str(zeros_sum / total_sum))\n",
        "test(net)"
      ]
    },
    {
      "cell_type": "markdown",
      "metadata": {
        "id": "bmBBXGpojQwF"
      },
      "source": [
        "### Lab 3 (b) and (c): Fixed-point quantization"
      ]
    },
    {
      "cell_type": "code",
      "execution_count": 15,
      "metadata": {
        "id": "tnbqtiaYjQwF",
        "colab": {
          "base_uri": "https://localhost:8080/"
        },
        "outputId": "07a311a7-7a85-4d07-dec9-3eee726fdf11"
      },
      "outputs": [
        {
          "output_type": "stream",
          "name": "stderr",
          "text": [
            "<ipython-input-15-48327ccf2db4>:6: FutureWarning: You are using `torch.load` with `weights_only=False` (the current default value), which uses the default pickle module implicitly. It is possible to construct malicious pickle data which will execute arbitrary code during unpickling (See https://github.com/pytorch/pytorch/blob/main/SECURITY.md#untrusted-models for more details). In a future release, the default value for `weights_only` will be flipped to `True`. This limits the functions that could be executed during unpickling. Arbitrary objects will no longer be allowed to be loaded via this mode unless they are explicitly allowlisted by the user via `torch.serialization.add_safe_globals`. We recommend you start setting `weights_only=True` for any use case where you don't have full control of the loaded file. Please open an issue on GitHub for any issues related to this experimental feature.\n",
            "  net.load_state_dict(torch.load(\"/content/drive/My Drive/DLHW4/pretrained_model.pt\"))\n"
          ]
        },
        {
          "output_type": "stream",
          "name": "stdout",
          "text": [
            "Files already downloaded and verified\n",
            "Test Loss=0.3861, Test accuracy=0.8972\n"
          ]
        }
      ],
      "source": [
        "# Define quantized model and load weight\n",
        "Nbits = 4  # Change this value to finish (b) and (c)\n",
        "\n",
        "net = ResNetCIFAR(num_layers=20, Nbits=Nbits)\n",
        "net = net.to(device)\n",
        "net.load_state_dict(torch.load(\"/content/drive/My Drive/DLHW4/pretrained_model.pt\"))\n",
        "test(net)"
      ]
    },
    {
      "cell_type": "code",
      "execution_count": 16,
      "metadata": {
        "id": "kZ1OtAV7jQwF",
        "colab": {
          "base_uri": "https://localhost:8080/"
        },
        "outputId": "d21b7fd8-e8e5-4221-8efd-3beb9db8b948"
      },
      "outputs": [
        {
          "output_type": "stream",
          "name": "stdout",
          "text": [
            "==> Preparing data..\n",
            "Files already downloaded and verified\n",
            "Files already downloaded and verified\n",
            "\n",
            "Epoch: 0\n",
            "[Step=50]\tLoss=0.0648\tacc=0.9784\t1505.9 examples/second\n",
            "[Step=100]\tLoss=0.0657\tacc=0.9779\t1744.7 examples/second\n",
            "[Step=150]\tLoss=0.0664\tacc=0.9777\t2427.9 examples/second\n",
            "Test Loss=0.3332, Test acc=0.9086\n",
            "Saving to /content/drive/My Drive/DLHW4/quantized_net_after_finetune.pt...\n",
            "\n",
            "Epoch: 1\n",
            "[Step=200]\tLoss=0.0636\tacc=0.9824\t1105.5 examples/second\n",
            "[Step=250]\tLoss=0.0654\tacc=0.9784\t2204.0 examples/second\n",
            "[Step=300]\tLoss=0.0607\tacc=0.9799\t1775.7 examples/second\n",
            "[Step=350]\tLoss=0.0610\tacc=0.9795\t2271.5 examples/second\n",
            "Test Loss=0.3327, Test acc=0.9092\n",
            "Saving to /content/drive/My Drive/DLHW4/quantized_net_after_finetune.pt...\n",
            "\n",
            "Epoch: 2\n",
            "[Step=400]\tLoss=0.0523\tacc=0.9819\t998.2 examples/second\n",
            "[Step=450]\tLoss=0.0610\tacc=0.9789\t2233.5 examples/second\n",
            "[Step=500]\tLoss=0.0609\tacc=0.9792\t1686.3 examples/second\n",
            "[Step=550]\tLoss=0.0610\tacc=0.9792\t2375.2 examples/second\n",
            "Test Loss=0.3312, Test acc=0.9097\n",
            "Saving to /content/drive/My Drive/DLHW4/quantized_net_after_finetune.pt...\n",
            "\n",
            "Epoch: 3\n",
            "[Step=600]\tLoss=0.0579\tacc=0.9814\t1041.7 examples/second\n",
            "[Step=650]\tLoss=0.0622\tacc=0.9793\t2283.4 examples/second\n",
            "[Step=700]\tLoss=0.0610\tacc=0.9792\t1739.8 examples/second\n",
            "[Step=750]\tLoss=0.0603\tacc=0.9797\t2365.6 examples/second\n",
            "Test Loss=0.3355, Test acc=0.9113\n",
            "Saving to /content/drive/My Drive/DLHW4/quantized_net_after_finetune.pt...\n",
            "\n",
            "Epoch: 4\n",
            "[Step=800]\tLoss=0.0607\tacc=0.9805\t1004.7 examples/second\n",
            "[Step=850]\tLoss=0.0612\tacc=0.9795\t2255.5 examples/second\n",
            "[Step=900]\tLoss=0.0584\tacc=0.9809\t1796.2 examples/second\n",
            "[Step=950]\tLoss=0.0575\tacc=0.9812\t2337.8 examples/second\n",
            "Test Loss=0.3331, Test acc=0.9123\n",
            "Saving to /content/drive/My Drive/DLHW4/quantized_net_after_finetune.pt...\n",
            "\n",
            "Epoch: 5\n",
            "[Step=1000]\tLoss=0.0580\tacc=0.9805\t1004.5 examples/second\n",
            "[Step=1050]\tLoss=0.0594\tacc=0.9799\t2297.3 examples/second\n",
            "[Step=1100]\tLoss=0.0585\tacc=0.9800\t1929.7 examples/second\n",
            "[Step=1150]\tLoss=0.0584\tacc=0.9804\t2215.7 examples/second\n",
            "Test Loss=0.3279, Test acc=0.9115\n",
            "\n",
            "Epoch: 6\n",
            "[Step=1200]\tLoss=0.0506\tacc=0.9834\t979.6 examples/second\n",
            "[Step=1250]\tLoss=0.0529\tacc=0.9832\t2347.4 examples/second\n",
            "[Step=1300]\tLoss=0.0551\tacc=0.9815\t2121.3 examples/second\n",
            "[Step=1350]\tLoss=0.0556\tacc=0.9818\t2069.3 examples/second\n",
            "Test Loss=0.3306, Test acc=0.9117\n",
            "\n",
            "Epoch: 7\n",
            "[Step=1400]\tLoss=0.0602\tacc=0.9789\t988.0 examples/second\n",
            "[Step=1450]\tLoss=0.0563\tacc=0.9808\t2259.9 examples/second\n",
            "[Step=1500]\tLoss=0.0573\tacc=0.9802\t2171.1 examples/second\n",
            "[Step=1550]\tLoss=0.0574\tacc=0.9800\t1848.4 examples/second\n",
            "Test Loss=0.3328, Test acc=0.9128\n",
            "Saving to /content/drive/My Drive/DLHW4/quantized_net_after_finetune.pt...\n",
            "\n",
            "Epoch: 8\n",
            "[Step=1600]\tLoss=0.0553\tacc=0.9821\t993.0 examples/second\n",
            "[Step=1650]\tLoss=0.0564\tacc=0.9819\t1955.5 examples/second\n",
            "[Step=1700]\tLoss=0.0582\tacc=0.9810\t2397.1 examples/second\n",
            "[Step=1750]\tLoss=0.0585\tacc=0.9808\t2131.7 examples/second\n",
            "Test Loss=0.3307, Test acc=0.9134\n",
            "Saving to /content/drive/My Drive/DLHW4/quantized_net_after_finetune.pt...\n",
            "\n",
            "Epoch: 9\n",
            "[Step=1800]\tLoss=0.0585\tacc=0.9797\t1056.0 examples/second\n",
            "[Step=1850]\tLoss=0.0563\tacc=0.9813\t1740.4 examples/second\n",
            "[Step=1900]\tLoss=0.0553\tacc=0.9819\t2374.5 examples/second\n",
            "[Step=1950]\tLoss=0.0559\tacc=0.9818\t2773.5 examples/second\n",
            "Test Loss=0.3324, Test acc=0.9134\n",
            "\n",
            "Epoch: 10\n",
            "[Step=2000]\tLoss=0.0549\tacc=0.9801\t1048.8 examples/second\n",
            "[Step=2050]\tLoss=0.0540\tacc=0.9811\t1628.3 examples/second\n",
            "[Step=2100]\tLoss=0.0549\tacc=0.9809\t2369.5 examples/second\n",
            "[Step=2150]\tLoss=0.0552\tacc=0.9812\t2869.7 examples/second\n",
            "Test Loss=0.3350, Test acc=0.9122\n",
            "\n",
            "Epoch: 11\n",
            "[Step=2200]\tLoss=0.0578\tacc=0.9797\t996.8 examples/second\n",
            "[Step=2250]\tLoss=0.0549\tacc=0.9809\t1589.9 examples/second\n",
            "[Step=2300]\tLoss=0.0558\tacc=0.9808\t2394.2 examples/second\n",
            "[Step=2350]\tLoss=0.0562\tacc=0.9808\t2995.0 examples/second\n",
            "Test Loss=0.3383, Test acc=0.9112\n",
            "\n",
            "Epoch: 12\n",
            "[Step=2400]\tLoss=0.0520\tacc=0.9828\t929.3 examples/second\n",
            "[Step=2450]\tLoss=0.0536\tacc=0.9821\t1572.0 examples/second\n",
            "[Step=2500]\tLoss=0.0547\tacc=0.9818\t2334.4 examples/second\n",
            "Test Loss=0.3305, Test acc=0.9130\n",
            "\n",
            "Epoch: 13\n",
            "[Step=2550]\tLoss=0.0435\tacc=0.9941\t1088.3 examples/second\n",
            "[Step=2600]\tLoss=0.0547\tacc=0.9823\t2153.9 examples/second\n",
            "[Step=2650]\tLoss=0.0533\tacc=0.9826\t1595.3 examples/second\n",
            "[Step=2700]\tLoss=0.0558\tacc=0.9816\t2403.3 examples/second\n",
            "Test Loss=0.3339, Test acc=0.9114\n",
            "\n",
            "Epoch: 14\n",
            "[Step=2750]\tLoss=0.0615\tacc=0.9824\t1012.0 examples/second\n",
            "[Step=2800]\tLoss=0.0552\tacc=0.9810\t2180.7 examples/second\n",
            "[Step=2850]\tLoss=0.0561\tacc=0.9807\t1650.0 examples/second\n",
            "[Step=2900]\tLoss=0.0558\tacc=0.9812\t2368.6 examples/second\n",
            "Test Loss=0.3371, Test acc=0.9110\n",
            "\n",
            "Epoch: 15\n",
            "[Step=2950]\tLoss=0.0710\tacc=0.9766\t1055.0 examples/second\n",
            "[Step=3000]\tLoss=0.0587\tacc=0.9803\t2186.1 examples/second\n",
            "[Step=3050]\tLoss=0.0553\tacc=0.9817\t1728.5 examples/second\n",
            "[Step=3100]\tLoss=0.0549\tacc=0.9821\t2389.9 examples/second\n",
            "Test Loss=0.3316, Test acc=0.9128\n",
            "\n",
            "Epoch: 16\n",
            "[Step=3150]\tLoss=0.0503\tacc=0.9852\t1074.5 examples/second\n",
            "[Step=3200]\tLoss=0.0512\tacc=0.9842\t2108.5 examples/second\n",
            "[Step=3250]\tLoss=0.0521\tacc=0.9835\t1806.7 examples/second\n",
            "[Step=3300]\tLoss=0.0529\tacc=0.9831\t2394.6 examples/second\n",
            "Test Loss=0.3346, Test acc=0.9122\n",
            "\n",
            "Epoch: 17\n",
            "[Step=3350]\tLoss=0.0512\tacc=0.9824\t1057.0 examples/second\n",
            "[Step=3400]\tLoss=0.0499\tacc=0.9844\t2055.0 examples/second\n",
            "[Step=3450]\tLoss=0.0530\tacc=0.9828\t1881.7 examples/second\n",
            "[Step=3500]\tLoss=0.0520\tacc=0.9831\t2428.6 examples/second\n",
            "Test Loss=0.3383, Test acc=0.9122\n",
            "\n",
            "Epoch: 18\n",
            "[Step=3550]\tLoss=0.0535\tacc=0.9814\t1057.5 examples/second\n",
            "[Step=3600]\tLoss=0.0535\tacc=0.9813\t1945.1 examples/second\n",
            "[Step=3650]\tLoss=0.0538\tacc=0.9813\t1911.0 examples/second\n",
            "[Step=3700]\tLoss=0.0529\tacc=0.9819\t2512.5 examples/second\n",
            "Test Loss=0.3380, Test acc=0.9123\n",
            "\n",
            "Epoch: 19\n",
            "[Step=3750]\tLoss=0.0529\tacc=0.9826\t1041.6 examples/second\n",
            "[Step=3800]\tLoss=0.0537\tacc=0.9824\t1864.4 examples/second\n",
            "[Step=3850]\tLoss=0.0537\tacc=0.9824\t2043.1 examples/second\n",
            "[Step=3900]\tLoss=0.0535\tacc=0.9822\t2583.4 examples/second\n",
            "Test Loss=0.3377, Test acc=0.9122\n"
          ]
        },
        {
          "output_type": "stream",
          "name": "stderr",
          "text": [
            "<ipython-input-16-54b085f7f189>:4: FutureWarning: You are using `torch.load` with `weights_only=False` (the current default value), which uses the default pickle module implicitly. It is possible to construct malicious pickle data which will execute arbitrary code during unpickling (See https://github.com/pytorch/pytorch/blob/main/SECURITY.md#untrusted-models for more details). In a future release, the default value for `weights_only` will be flipped to `True`. This limits the functions that could be executed during unpickling. Arbitrary objects will no longer be allowed to be loaded via this mode unless they are explicitly allowlisted by the user via `torch.serialization.add_safe_globals`. We recommend you start setting `weights_only=True` for any use case where you don't have full control of the loaded file. Please open an issue on GitHub for any issues related to this experimental feature.\n",
            "  net.load_state_dict(torch.load(\"/content/drive/My Drive/DLHW4/quantized_net_after_finetune.pt\"))\n"
          ]
        },
        {
          "output_type": "stream",
          "name": "stdout",
          "text": [
            "Files already downloaded and verified\n",
            "Test Loss=0.3307, Test accuracy=0.9134\n"
          ]
        }
      ],
      "source": [
        "# Quantized model finetuning\n",
        "finetune(net, epochs=20, batch_size=256, lr=0.002, reg=1e-4)\n",
        "# Load the model with best accuracy\n",
        "net.load_state_dict(torch.load(\"/content/drive/My Drive/DLHW4/quantized_net_after_finetune.pt\"))\n",
        "test(net)\n"
      ]
    },
    {
      "cell_type": "markdown",
      "metadata": {
        "id": "i1RvTrnIjQwF"
      },
      "source": [
        "### Lab3 (d) Quantize pruned model"
      ]
    },
    {
      "cell_type": "code",
      "execution_count": 19,
      "metadata": {
        "id": "VbYEUOmFjQwF",
        "colab": {
          "base_uri": "https://localhost:8080/"
        },
        "outputId": "aecd5661-00f2-4fd2-8c8c-39447b5ead8c"
      },
      "outputs": [
        {
          "output_type": "stream",
          "name": "stderr",
          "text": [
            "<ipython-input-19-e00dc2658698>:6: FutureWarning: You are using `torch.load` with `weights_only=False` (the current default value), which uses the default pickle module implicitly. It is possible to construct malicious pickle data which will execute arbitrary code during unpickling (See https://github.com/pytorch/pytorch/blob/main/SECURITY.md#untrusted-models for more details). In a future release, the default value for `weights_only` will be flipped to `True`. This limits the functions that could be executed during unpickling. Arbitrary objects will no longer be allowed to be loaded via this mode unless they are explicitly allowlisted by the user via `torch.serialization.add_safe_globals`. We recommend you start setting `weights_only=True` for any use case where you don't have full control of the loaded file. Please open an issue on GitHub for any issues related to this experimental feature.\n",
            "  net.load_state_dict(torch.load(\"/content/drive/My Drive/DLHW4/net_after_global_iterative_prune.pt\"))\n"
          ]
        },
        {
          "output_type": "stream",
          "name": "stdout",
          "text": [
            "Files already downloaded and verified\n",
            "Test Loss=1.0269, Test accuracy=0.6628\n"
          ]
        }
      ],
      "source": [
        "# Define quantized model and load weight\n",
        "Nbits = 2  # Change this value to finish (d)\n",
        "\n",
        "net = ResNetCIFAR(num_layers=20, Nbits=Nbits)\n",
        "net = net.to(device)\n",
        "net.load_state_dict(torch.load(\"/content/drive/My Drive/DLHW4/net_after_global_iterative_prune.pt\"))\n",
        "test(net)"
      ]
    },
    {
      "cell_type": "code",
      "execution_count": 21,
      "metadata": {
        "id": "VlJ1zrqMjQwF",
        "colab": {
          "base_uri": "https://localhost:8080/"
        },
        "outputId": "f1d53f08-9124-46b9-f670-8650663f18cd"
      },
      "outputs": [
        {
          "output_type": "stream",
          "name": "stdout",
          "text": [
            "==> Preparing data..\n",
            "Files already downloaded and verified\n",
            "Files already downloaded and verified\n",
            "\n",
            "Epoch: 0\n",
            "[Step=50]\tLoss=0.2036\tacc=0.9300\t1152.0 examples/second\n",
            "[Step=100]\tLoss=0.1975\tacc=0.9310\t2395.5 examples/second\n",
            "[Step=150]\tLoss=0.1950\tacc=0.9316\t1735.6 examples/second\n",
            "Test Loss=0.3717, Test acc=0.8825\n",
            "Saving to /content/drive/My Drive/DLHW4/quantized_net_after_finetune.pt...\n",
            "\n",
            "Epoch: 1\n",
            "[Step=200]\tLoss=0.1893\tacc=0.9277\t1138.3 examples/second\n",
            "[Step=250]\tLoss=0.1966\tacc=0.9299\t1629.2 examples/second\n",
            "[Step=300]\tLoss=0.1945\tacc=0.9310\t2367.1 examples/second\n",
            "[Step=350]\tLoss=0.1926\tacc=0.9322\t1968.8 examples/second\n",
            "Test Loss=0.3708, Test acc=0.8832\n",
            "Saving to /content/drive/My Drive/DLHW4/quantized_net_after_finetune.pt...\n",
            "\n",
            "Epoch: 2\n",
            "[Step=400]\tLoss=0.1918\tacc=0.9307\t1089.8 examples/second\n",
            "[Step=450]\tLoss=0.1896\tacc=0.9337\t1694.6 examples/second\n",
            "[Step=500]\tLoss=0.1884\tacc=0.9338\t2331.7 examples/second\n",
            "[Step=550]\tLoss=0.1859\tacc=0.9350\t2316.4 examples/second\n",
            "Test Loss=0.3786, Test acc=0.8825\n",
            "\n",
            "Epoch: 3\n",
            "[Step=600]\tLoss=0.1685\tacc=0.9404\t1091.7 examples/second\n",
            "[Step=650]\tLoss=0.1833\tacc=0.9355\t1767.9 examples/second\n",
            "[Step=700]\tLoss=0.1862\tacc=0.9343\t2185.9 examples/second\n",
            "[Step=750]\tLoss=0.1858\tacc=0.9344\t2353.0 examples/second\n",
            "Test Loss=0.3628, Test acc=0.8867\n",
            "Saving to /content/drive/My Drive/DLHW4/quantized_net_after_finetune.pt...\n",
            "\n",
            "Epoch: 4\n",
            "[Step=800]\tLoss=0.1902\tacc=0.9326\t1082.0 examples/second\n",
            "[Step=850]\tLoss=0.1866\tacc=0.9345\t1810.3 examples/second\n",
            "[Step=900]\tLoss=0.1834\tacc=0.9346\t2136.3 examples/second\n",
            "[Step=950]\tLoss=0.1852\tacc=0.9347\t2409.4 examples/second\n",
            "Test Loss=0.3643, Test acc=0.8880\n",
            "Saving to /content/drive/My Drive/DLHW4/quantized_net_after_finetune.pt...\n",
            "\n",
            "Epoch: 5\n",
            "[Step=1000]\tLoss=0.1759\tacc=0.9418\t1067.3 examples/second\n",
            "[Step=1050]\tLoss=0.1806\tacc=0.9387\t1815.2 examples/second\n",
            "[Step=1100]\tLoss=0.1803\tacc=0.9374\t2107.3 examples/second\n",
            "[Step=1150]\tLoss=0.1796\tacc=0.9372\t2500.7 examples/second\n",
            "Test Loss=0.3775, Test acc=0.8805\n",
            "\n",
            "Epoch: 6\n",
            "[Step=1200]\tLoss=0.1797\tacc=0.9385\t1039.6 examples/second\n",
            "[Step=1250]\tLoss=0.1758\tacc=0.9389\t1814.6 examples/second\n",
            "[Step=1300]\tLoss=0.1791\tacc=0.9371\t2151.9 examples/second\n",
            "[Step=1350]\tLoss=0.1791\tacc=0.9365\t2535.8 examples/second\n",
            "Test Loss=0.3667, Test acc=0.8851\n",
            "\n",
            "Epoch: 7\n",
            "[Step=1400]\tLoss=0.1741\tacc=0.9407\t1022.7 examples/second\n",
            "[Step=1450]\tLoss=0.1757\tacc=0.9388\t1783.0 examples/second\n",
            "[Step=1500]\tLoss=0.1762\tacc=0.9382\t2178.2 examples/second\n",
            "[Step=1550]\tLoss=0.1758\tacc=0.9382\t2657.5 examples/second\n",
            "Test Loss=0.3681, Test acc=0.8852\n",
            "\n",
            "Epoch: 8\n",
            "[Step=1600]\tLoss=0.1683\tacc=0.9403\t999.4 examples/second\n",
            "[Step=1650]\tLoss=0.1695\tacc=0.9395\t1787.3 examples/second\n",
            "[Step=1700]\tLoss=0.1759\tacc=0.9384\t2208.5 examples/second\n",
            "[Step=1750]\tLoss=0.1740\tacc=0.9391\t2779.7 examples/second\n",
            "Test Loss=0.3847, Test acc=0.8846\n",
            "\n",
            "Epoch: 9\n",
            "[Step=1800]\tLoss=0.1673\tacc=0.9430\t981.1 examples/second\n",
            "[Step=1850]\tLoss=0.1703\tacc=0.9400\t1728.6 examples/second\n",
            "[Step=1900]\tLoss=0.1708\tacc=0.9405\t2267.0 examples/second\n",
            "[Step=1950]\tLoss=0.1710\tacc=0.9403\t2884.7 examples/second\n",
            "Test Loss=0.3581, Test acc=0.8889\n",
            "Saving to /content/drive/My Drive/DLHW4/quantized_net_after_finetune.pt...\n",
            "\n",
            "Epoch: 10\n",
            "[Step=2000]\tLoss=0.1745\tacc=0.9396\t968.0 examples/second\n",
            "[Step=2050]\tLoss=0.1727\tacc=0.9409\t1727.4 examples/second\n",
            "[Step=2100]\tLoss=0.1725\tacc=0.9401\t2304.7 examples/second\n",
            "[Step=2150]\tLoss=0.1718\tacc=0.9401\t2955.3 examples/second\n",
            "Test Loss=0.3619, Test acc=0.8878\n",
            "\n",
            "Epoch: 11\n",
            "[Step=2200]\tLoss=0.1705\tacc=0.9390\t938.7 examples/second\n",
            "[Step=2250]\tLoss=0.1723\tacc=0.9382\t1672.5 examples/second\n",
            "[Step=2300]\tLoss=0.1692\tacc=0.9396\t2396.2 examples/second\n",
            "[Step=2350]\tLoss=0.1684\tacc=0.9402\t3098.1 examples/second\n",
            "Test Loss=0.3737, Test acc=0.8852\n",
            "\n",
            "Epoch: 12\n",
            "[Step=2400]\tLoss=0.1629\tacc=0.9430\t925.9 examples/second\n",
            "[Step=2450]\tLoss=0.1664\tacc=0.9419\t1683.9 examples/second\n",
            "[Step=2500]\tLoss=0.1644\tacc=0.9429\t2386.7 examples/second\n",
            "Test Loss=0.3583, Test acc=0.8902\n",
            "Saving to /content/drive/My Drive/DLHW4/quantized_net_after_finetune.pt...\n",
            "\n",
            "Epoch: 13\n",
            "[Step=2550]\tLoss=0.1394\tacc=0.9492\t1087.1 examples/second\n",
            "[Step=2600]\tLoss=0.1607\tacc=0.9427\t2037.7 examples/second\n",
            "[Step=2650]\tLoss=0.1686\tacc=0.9397\t1651.5 examples/second\n",
            "[Step=2700]\tLoss=0.1683\tacc=0.9398\t2390.2 examples/second\n",
            "Test Loss=0.3548, Test acc=0.8908\n",
            "Saving to /content/drive/My Drive/DLHW4/quantized_net_after_finetune.pt...\n",
            "\n",
            "Epoch: 14\n",
            "[Step=2750]\tLoss=0.1599\tacc=0.9427\t1015.7 examples/second\n",
            "[Step=2800]\tLoss=0.1603\tacc=0.9457\t2250.3 examples/second\n",
            "[Step=2850]\tLoss=0.1615\tacc=0.9442\t1722.5 examples/second\n",
            "[Step=2900]\tLoss=0.1604\tacc=0.9438\t2374.1 examples/second\n",
            "Test Loss=0.3543, Test acc=0.8906\n",
            "\n",
            "Epoch: 15\n",
            "[Step=2950]\tLoss=0.1703\tacc=0.9406\t1033.8 examples/second\n",
            "[Step=3000]\tLoss=0.1653\tacc=0.9402\t2210.2 examples/second\n",
            "[Step=3050]\tLoss=0.1651\tacc=0.9413\t1783.0 examples/second\n",
            "[Step=3100]\tLoss=0.1639\tacc=0.9417\t2386.4 examples/second\n",
            "Test Loss=0.3656, Test acc=0.8873\n",
            "\n",
            "Epoch: 16\n",
            "[Step=3150]\tLoss=0.1572\tacc=0.9439\t1026.9 examples/second\n",
            "[Step=3200]\tLoss=0.1583\tacc=0.9458\t2178.7 examples/second\n",
            "[Step=3250]\tLoss=0.1595\tacc=0.9451\t1775.6 examples/second\n",
            "[Step=3300]\tLoss=0.1612\tacc=0.9440\t2371.3 examples/second\n",
            "Test Loss=0.3533, Test acc=0.8919\n",
            "Saving to /content/drive/My Drive/DLHW4/quantized_net_after_finetune.pt...\n",
            "\n",
            "Epoch: 17\n",
            "[Step=3350]\tLoss=0.1545\tacc=0.9470\t1012.6 examples/second\n",
            "[Step=3400]\tLoss=0.1596\tacc=0.9455\t2094.6 examples/second\n",
            "[Step=3450]\tLoss=0.1564\tacc=0.9453\t1836.1 examples/second\n",
            "[Step=3500]\tLoss=0.1563\tacc=0.9449\t2457.0 examples/second\n",
            "Test Loss=0.3537, Test acc=0.8912\n",
            "\n",
            "Epoch: 18\n",
            "[Step=3550]\tLoss=0.1527\tacc=0.9448\t1008.2 examples/second\n",
            "[Step=3600]\tLoss=0.1516\tacc=0.9473\t2059.8 examples/second\n",
            "[Step=3650]\tLoss=0.1559\tacc=0.9456\t1860.3 examples/second\n",
            "[Step=3700]\tLoss=0.1586\tacc=0.9450\t2543.1 examples/second\n",
            "Test Loss=0.3521, Test acc=0.8904\n",
            "\n",
            "Epoch: 19\n",
            "[Step=3750]\tLoss=0.1572\tacc=0.9404\t982.2 examples/second\n",
            "[Step=3800]\tLoss=0.1559\tacc=0.9446\t1909.8 examples/second\n",
            "[Step=3850]\tLoss=0.1597\tacc=0.9434\t2000.9 examples/second\n",
            "[Step=3900]\tLoss=0.1602\tacc=0.9430\t2646.8 examples/second\n",
            "Test Loss=0.3628, Test acc=0.8868\n"
          ]
        },
        {
          "output_type": "stream",
          "name": "stderr",
          "text": [
            "<ipython-input-21-40c90cedf075>:5: FutureWarning: You are using `torch.load` with `weights_only=False` (the current default value), which uses the default pickle module implicitly. It is possible to construct malicious pickle data which will execute arbitrary code during unpickling (See https://github.com/pytorch/pytorch/blob/main/SECURITY.md#untrusted-models for more details). In a future release, the default value for `weights_only` will be flipped to `True`. This limits the functions that could be executed during unpickling. Arbitrary objects will no longer be allowed to be loaded via this mode unless they are explicitly allowlisted by the user via `torch.serialization.add_safe_globals`. We recommend you start setting `weights_only=True` for any use case where you don't have full control of the loaded file. Please open an issue on GitHub for any issues related to this experimental feature.\n",
            "  net.load_state_dict(torch.load(\"/content/drive/My Drive/DLHW4/quantized_net_after_finetune.pt\"))\n"
          ]
        },
        {
          "output_type": "stream",
          "name": "stdout",
          "text": [
            "Files already downloaded and verified\n",
            "Test Loss=0.3533, Test accuracy=0.8919\n"
          ]
        }
      ],
      "source": [
        "# Quantized model finetuning\n",
        "finetune(net, epochs=20, batch_size=256, lr=0.002, reg=1e-4)\n",
        "\n",
        "# Load the model with best accuracy\n",
        "net.load_state_dict(torch.load(\"/content/drive/My Drive/DLHW4/quantized_net_after_finetune.pt\"))\n",
        "test(net)"
      ]
    },
    {
      "cell_type": "markdown",
      "metadata": {
        "id": "x0iQvf5yjQwF"
      },
      "source": [
        "### Lab3 (e) Symmetric quantization\n",
        "#### Implement symmetric quantization in FP_layers.py, and repeat the process in (b)"
      ]
    },
    {
      "cell_type": "code",
      "execution_count": null,
      "metadata": {
        "id": "lNH0afp5jQwF"
      },
      "outputs": [],
      "source": [
        "# check the performance of symmetric quantization with 6, 5, 4, 3, 2 bits"
      ]
    }
  ],
  "metadata": {
    "kernelspec": {
      "display_name": "Python 3",
      "name": "python3"
    },
    "language_info": {
      "codemirror_mode": {
        "name": "ipython",
        "version": 3
      },
      "file_extension": ".py",
      "mimetype": "text/x-python",
      "name": "python",
      "nbconvert_exporter": "python",
      "pygments_lexer": "ipython3",
      "version": "3.11.5"
    },
    "pycharm": {
      "stem_cell": {
        "cell_type": "raw",
        "metadata": {
          "collapsed": false
        },
        "source": []
      }
    },
    "colab": {
      "provenance": [],
      "gpuType": "T4",
      "include_colab_link": true
    },
    "accelerator": "GPU"
  },
  "nbformat": 4,
  "nbformat_minor": 0
}